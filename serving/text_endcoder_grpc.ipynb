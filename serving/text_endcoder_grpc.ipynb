{
 "cells": [
  {
   "cell_type": "markdown",
   "id": "f73046ff",
   "metadata": {},
   "source": [
    "# GRPC Inference"
   ]
  },
  {
   "cell_type": "markdown",
   "id": "443e7e73-24cb-4f03-9491-a6edcc24f0cc",
   "metadata": {
    "tags": []
   },
   "source": [
    "### Setup"
   ]
  },
  {
   "cell_type": "code",
   "execution_count": null,
   "id": "f3a1896a-efc5-447f-b2a3-365790936aba",
   "metadata": {},
   "outputs": [],
   "source": [
    "!pip install grpcio==1.56.0 grpcio-tools==1.33.2 protobuf==3.20.3"
   ]
  },
  {
   "cell_type": "code",
   "execution_count": null,
   "id": "46b986bc-07cb-430c-b16a-56d4cc4f675f",
   "metadata": {},
   "outputs": [],
   "source": [
    "!pip list | grep -e grpcio -e protobuf"
   ]
  },
  {
   "cell_type": "code",
   "execution_count": null,
   "id": "1d17b252-7827-4cae-adb0-f98c9d80bcd7",
   "metadata": {},
   "outputs": [],
   "source": [
    "grpc_host = 'modelmesh-serving'\n",
    "grpc_port = 8033\n",
    "\n",
    "textencoder_model_name = 'textencoder'\n",
    "unet_model_name = 'unet'\n",
    "vaeencoder_model_name = 'vaeencoder'\n",
    "vaedecoder_model_name = 'vaedecoder'"
   ]
  },
  {
   "cell_type": "markdown",
   "id": "4269da9e-5683-4531-9a3f-a1cdad42e3af",
   "metadata": {},
   "source": [
    "### Inspecting the gRPC Endpoint\n",
    "\n",
    "Let's check out the gRPC endpoint's model metadata."
   ]
  },
  {
   "cell_type": "code",
   "execution_count": null,
   "id": "545aa5f4-356f-4e70-b7e6-cd352a68927a",
   "metadata": {},
   "outputs": [],
   "source": [
    "import grpc\n",
    "import grpc_predict_v2_pb2\n",
    "import grpc_predict_v2_pb2_grpc\n",
    "\n",
    "\n",
    "channel = grpc.insecure_channel(f\"{grpc_host}:{grpc_port}\")\n",
    "stub = grpc_predict_v2_pb2_grpc.GRPCInferenceServiceStub(channel)\n",
    "\n",
    "request = grpc_predict_v2_pb2.ModelMetadataRequest(name=textencoder_model_name)\n",
    "response = stub.ModelMetadata(request)\n",
    "print(response)\n",
    "\n",
    "# request = grpc_predict_v2_pb2.ModelMetadataRequest(name=unet_model_name)\n",
    "# response = stub.ModelMetadata(request)\n",
    "# print(response)\n",
    "\n",
    "# request = grpc_predict_v2_pb2.ModelMetadataRequest(name=vaeencoder_model_name)\n",
    "# response = stub.ModelMetadata(request)\n",
    "# print(response)\n",
    "\n",
    "# request = grpc_predict_v2_pb2.ModelMetadataRequest(name=vaedecoder_model_name)\n",
    "# response = stub.ModelMetadata(request)\n",
    "# print(response)\n"
   ]
  },
  {
   "cell_type": "markdown",
   "id": "fd5affbf-36c3-4e17-9788-5fc0904de143",
   "metadata": {},
   "source": [
    "### Request Function\n",
    "\n",
    "Builds and submits our gRPC request."
   ]
  },
  {
   "cell_type": "code",
   "execution_count": null,
   "id": "67c1d001-ff99-414a-95d4-5729d5849298",
   "metadata": {},
   "outputs": [],
   "source": [
    "import torch\n",
    "\n",
    "def textencoder_grpc_request(input_arr):\n",
    "    # request content building\n",
    "    inputs = []\n",
    "    inputs.append(grpc_predict_v2_pb2.ModelInferRequest().InferInputTensor())\n",
    "    inputs[0].name = \"input_ids\"\n",
    "    inputs[0].datatype = \"INT32\"\n",
    "    inputs[0].shape.extend([1, 77])\n",
    "    arr = input_arr.flatten()\n",
    "    inputs[0].contents.int_contents.extend(arr)\n",
    "\n",
    "    # request building\n",
    "    request = grpc_predict_v2_pb2.ModelInferRequest()\n",
    "    request.model_name = textencoder_model_name\n",
    "    request.inputs.extend(inputs)\n",
    "\n",
    "    response = stub.ModelInfer(request)\n",
    "    text_embeddings = np.frombuffer(response.raw_output_contents[0], dtype=np.float32)\n",
    "\n",
    "    return torch.tensor(text_embeddings.reshape([-1, 77, 768]))"
   ]
  },
  {
   "cell_type": "markdown",
   "id": "911b1015-28b0-4d60-bc17-7b30326b97bc",
   "metadata": {},
   "source": [
    "### Run the Request"
   ]
  },
  {
   "cell_type": "code",
   "execution_count": null,
   "id": "12947866-e0f5-4c72-ba9a-04229b1af990",
   "metadata": {},
   "outputs": [],
   "source": [
    "import numpy as np\n",
    "\n",
    "from IPython.display import Image\n",
    "\n",
    "text_inputs = np.array([[49406,   320,  1125,   539,   320,  8745, 11798,  1929,   525,   518,\n",
    "                  2117, 49407, 49407, 49407, 49407, 49407, 49407, 49407, 49407, 49407,\n",
    "                 49407, 49407, 49407, 49407, 49407, 49407, 49407, 49407, 49407, 49407,\n",
    "                 49407, 49407, 49407, 49407, 49407, 49407, 49407, 49407, 49407, 49407,\n",
    "                 49407, 49407, 49407, 49407, 49407, 49407, 49407, 49407, 49407, 49407,\n",
    "                 49407, 49407, 49407, 49407, 49407, 49407, 49407, 49407, 49407, 49407,\n",
    "                 49407, 49407, 49407, 49407, 49407, 49407, 49407, 49407, 49407, 49407,\n",
    "                 49407, 49407, 49407, 49407, 49407, 49407, 49407]])\n",
    "\n",
    "\n",
    "text_embeddings = textencoder_grpc_request(text_inputs)"
   ]
  },
  {
   "cell_type": "code",
   "execution_count": null,
   "id": "af819917-26e7-4ca1-82a5-5bd68d5fe202",
   "metadata": {},
   "outputs": [],
   "source": [
    "print(text_embeddings.dtype)\n",
    "print(text_embeddings.shape)\n",
    "print(text_embeddings)"
   ]
  },
  {
   "cell_type": "code",
   "execution_count": null,
   "id": "ba721d44-7454-4f27-91fa-96355f9c5065",
   "metadata": {},
   "outputs": [],
   "source": []
  }
 ],
 "metadata": {
  "kernelspec": {
   "display_name": "Python 3.9.16",
   "language": "python",
   "name": "python3"
  },
  "language_info": {
   "codemirror_mode": {
    "name": "ipython",
    "version": 3
   },
   "file_extension": ".py",
   "mimetype": "text/x-python",
   "name": "python",
   "nbconvert_exporter": "python",
   "pygments_lexer": "ipython3",
   "version": "3.9.16"
  }
 },
 "nbformat": 4,
 "nbformat_minor": 5
}
