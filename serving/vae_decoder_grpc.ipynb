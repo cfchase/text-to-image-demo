{
 "cells": [
  {
   "cell_type": "markdown",
   "id": "f73046ff",
   "metadata": {},
   "source": [
    "# GRPC Inference"
   ]
  },
  {
   "cell_type": "markdown",
   "id": "443e7e73-24cb-4f03-9491-a6edcc24f0cc",
   "metadata": {
    "tags": []
   },
   "source": [
    "### Setup"
   ]
  },
  {
   "cell_type": "code",
   "execution_count": null,
   "id": "55c80d0a-2e7f-4bfb-a004-db1ada9969f4",
   "metadata": {},
   "outputs": [],
   "source": [
    "!pip list | grep -e grpcio -e protobuf"
   ]
  },
  {
   "cell_type": "code",
   "execution_count": null,
   "id": "f3a1896a-efc5-447f-b2a3-365790936aba",
   "metadata": {},
   "outputs": [],
   "source": [
    "!pip install grpcio==1.56.0 grpcio-tools==1.33.2 protobuf==3.20.3"
   ]
  },
  {
   "cell_type": "code",
   "execution_count": null,
   "id": "46b986bc-07cb-430c-b16a-56d4cc4f675f",
   "metadata": {},
   "outputs": [],
   "source": [
    "!pip list | grep -e grpcio -e protobuf"
   ]
  },
  {
   "cell_type": "code",
   "execution_count": null,
   "id": "1d17b252-7827-4cae-adb0-f98c9d80bcd7",
   "metadata": {},
   "outputs": [],
   "source": [
    "grpc_host = 'modelmesh-serving'\n",
    "grpc_port = 8033\n",
    "\n",
    "textencoder_model_name = 'textencoder'\n",
    "unet_model_name = 'unet'\n",
    "vaeencoder_model_name = 'vaeencoder'\n",
    "vaedecoder_model_name = 'vaedecoder'"
   ]
  },
  {
   "cell_type": "markdown",
   "id": "4269da9e-5683-4531-9a3f-a1cdad42e3af",
   "metadata": {},
   "source": [
    "### Inspecting the gRPC Endpoint\n",
    "\n",
    "Let's check out the gRPC endpoint's model metadata."
   ]
  },
  {
   "cell_type": "code",
   "execution_count": null,
   "id": "545aa5f4-356f-4e70-b7e6-cd352a68927a",
   "metadata": {},
   "outputs": [],
   "source": [
    "import grpc\n",
    "import grpc_predict_v2_pb2\n",
    "import grpc_predict_v2_pb2_grpc\n",
    "\n",
    "\n",
    "channel = grpc.insecure_channel(f\"{grpc_host}:{grpc_port}\")\n",
    "stub = grpc_predict_v2_pb2_grpc.GRPCInferenceServiceStub(channel)\n",
    "\n",
    "# request = grpc_predict_v2_pb2.ModelMetadataRequest(name=vaeencoder_model_name)\n",
    "# response = stub.ModelMetadata(request)\n",
    "# print(response)\n",
    "\n",
    "request = grpc_predict_v2_pb2.ModelMetadataRequest(name=vaedecoder_model_name)\n",
    "response = stub.ModelMetadata(request)\n",
    "print(response)\n"
   ]
  },
  {
   "cell_type": "markdown",
   "id": "fd5affbf-36c3-4e17-9788-5fc0904de143",
   "metadata": {},
   "source": [
    "### Request Function\n",
    "\n",
    "Builds and submits our gRPC request."
   ]
  },
  {
   "cell_type": "code",
   "execution_count": null,
   "id": "67c1d001-ff99-414a-95d4-5729d5849298",
   "metadata": {},
   "outputs": [],
   "source": [
    "import torch\n",
    "\n",
    "def vae_decoder_grpc_request(latent_sample):\n",
    "    inputs = []\n",
    "    inputs.append(grpc_predict_v2_pb2.ModelInferRequest().InferInputTensor())\n",
    "    inputs[0].name = \"latent_sample\"\n",
    "    inputs[0].datatype = \"FP32\"\n",
    "    inputs[0].shape.extend([1, 4, 64, 64])\n",
    "    arr = latent_sample.flatten()\n",
    "    inputs[0].contents.fp32_contents.extend(arr)\n",
    "\n",
    "    request = grpc_predict_v2_pb2.ModelInferRequest()\n",
    "    request.model_name = vaedecoder_model_name\n",
    "    request.inputs.extend(inputs)\n",
    "\n",
    "    response = stub.ModelInfer(request)\n",
    "    out_sample = np.frombuffer(response.raw_output_contents[0], dtype=np.float32)\n",
    "\n",
    "    return torch.tensor(out_sample.reshape([1, 3, 512, 512]))"
   ]
  },
  {
   "cell_type": "markdown",
   "id": "911b1015-28b0-4d60-bc17-7b30326b97bc",
   "metadata": {},
   "source": [
    "### Run the Request"
   ]
  },
  {
   "cell_type": "code",
   "execution_count": null,
   "id": "12947866-e0f5-4c72-ba9a-04229b1af990",
   "metadata": {},
   "outputs": [],
   "source": [
    "import numpy as np\n",
    "import torch\n",
    "\n",
    "from IPython.display import Image\n",
    "\n",
    "latents = np.load(\"latents.npy\")"
   ]
  },
  {
   "cell_type": "code",
   "execution_count": null,
   "id": "002cd999-408f-478f-878a-d0ffea687583",
   "metadata": {},
   "outputs": [],
   "source": [
    "import torch\n",
    "import numpy as np\n",
    "\n",
    "\n",
    "image_tensor = vae_decoder_grpc_request(latents)"
   ]
  },
  {
   "cell_type": "code",
   "execution_count": null,
   "id": "129a81ea-f3aa-4ecd-9a12-3f7cebd4816b",
   "metadata": {},
   "outputs": [],
   "source": [
    "print(image_tensor.dtype)\n",
    "print(image_tensor.shape)\n",
    "print(image_tensor)"
   ]
  },
  {
   "cell_type": "code",
   "execution_count": null,
   "id": "5e622545-34d1-493d-a2b7-a9005ff2e597",
   "metadata": {},
   "outputs": [],
   "source": [
    "image_tensor.sample"
   ]
  },
  {
   "cell_type": "code",
   "execution_count": null,
   "id": "30624b7f-dd1f-46ac-a774-18a02be89b06",
   "metadata": {},
   "outputs": [],
   "source": [
    "print(image_tensor.dtype)\n",
    "print(image_tensor.shape)\n",
    "print(image_tensor)"
   ]
  },
  {
   "cell_type": "code",
   "execution_count": null,
   "id": "34b93f0c-0086-4b37-8816-a684c17c991a",
   "metadata": {},
   "outputs": [],
   "source": [
    "from PIL import Image\n",
    "\n",
    "def image_to_pil(image_tensor):    \n",
    "    image = (image_tensor / 2 + 0.5).clamp(0, 1).squeeze()\n",
    "    image = (image.permute(1, 2, 0) * 255).to(torch.uint8).cpu().numpy()\n",
    "    images = (image * 255).round().astype(\"uint8\")\n",
    "    image = Image.fromarray(image)\n",
    "    return image"
   ]
  },
  {
   "cell_type": "code",
   "execution_count": null,
   "id": "1ef291ae-dddf-4ff6-8d2e-8af195b66af7",
   "metadata": {},
   "outputs": [],
   "source": [
    "image = (image_tensor / 2 + 0.5).clamp(0, 1).squeeze()\n",
    "image = (image.permute(1, 2, 0) * 255).to(torch.uint8).cpu().numpy()\n",
    "images = (image * 255).round().astype(\"uint8\")\n",
    "image = Image.fromarray(image)\n",
    "image"
   ]
  },
  {
   "cell_type": "code",
   "execution_count": null,
   "id": "1047912c-8fb1-4f1d-8dbb-51840ed1200b",
   "metadata": {},
   "outputs": [],
   "source": [
    "img = image_to_pil(image_tensor)"
   ]
  },
  {
   "cell_type": "code",
   "execution_count": null,
   "id": "3de56db5-05e2-423b-98b8-6266b9f9850f",
   "metadata": {},
   "outputs": [],
   "source": [
    "img"
   ]
  },
  {
   "cell_type": "code",
   "execution_count": null,
   "id": "0d9e4969-ed84-476b-a738-03f61afe0858",
   "metadata": {},
   "outputs": [],
   "source": []
  }
 ],
 "metadata": {
  "kernelspec": {
   "display_name": "Python 3.9.16",
   "language": "python",
   "name": "python3"
  },
  "language_info": {
   "codemirror_mode": {
    "name": "ipython",
    "version": 3
   },
   "file_extension": ".py",
   "mimetype": "text/x-python",
   "name": "python",
   "nbconvert_exporter": "python",
   "pygments_lexer": "ipython3",
   "version": "3.9.16"
  }
 },
 "nbformat": 4,
 "nbformat_minor": 5
}
