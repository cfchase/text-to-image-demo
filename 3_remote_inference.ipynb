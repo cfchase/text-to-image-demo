{
 "cells": [
  {
   "cell_type": "markdown",
   "id": "cc187e7e-ab1c-43f6-bf7c-ff741bc8c797",
   "metadata": {
    "tags": []
   },
   "source": [
    "# REST on a V1 Custom Predictor\n",
    "\n",
    "\n",
    "https://kserve.github.io/website/latest/modelserving/data_plane/v1_protocol/"
   ]
  },
  {
   "cell_type": "markdown",
   "id": "2c004acc-13cd-4917-8480-592c7c2d623b",
   "metadata": {},
   "source": [
    "### Setup\n",
    "\n",
    "Change that following variable settings match your deployed model's *Inference endpoint*. for example: \n",
    "\n",
    "```\n",
    "infer_endpoint = \"https://redhat-dog-image-generation.apps.cluster.openshiftapps.com\"\n",
    "```"
   ]
  },
  {
   "cell_type": "code",
   "execution_count": null,
   "id": "0de65d02-84a6-4cff-882e-551cdd42b486",
   "metadata": {
    "tags": []
   },
   "outputs": [],
   "source": [
    "infer_endpoint = \"https://redhat-dog-single-model-serving.apps.cchase-summit.4ki0.p1.openshiftapps.com\"\n",
    "infer_url = f\"{infer_endpoint}/v1/models/model:predict\""
   ]
  },
  {
   "cell_type": "markdown",
   "id": "d94f9ece-e9cf-44e2-a8a2-73160186aee8",
   "metadata": {},
   "source": [
    "## Request Function\n",
    "\n",
    "Build and submit the REST request. \n",
    "\n",
    "Note: You submit the data in the same format that you used for an ONNX inference."
   ]
  },
  {
   "cell_type": "code",
   "execution_count": null,
   "id": "54b9386f-683a-4880-b780-c40bec3ab9f8",
   "metadata": {
    "tags": []
   },
   "outputs": [],
   "source": [
    "import requests\n",
    "\n",
    "\n",
    "def rest_request(prompt):\n",
    "    json_data = {\n",
    "        \"instances\": [\n",
    "            {\n",
    "                \"prompt\": prompt,\n",
    "                # \"negative_prompt\": \"\",\n",
    "                # \"num_inference_steps\": 60,\n",
    "            }\n",
    "        ]\n",
    "    }\n",
    "\n",
    "    response = requests.post(infer_url, json=json_data, verify=False)\n",
    "    response_dict = response.json()\n",
    "    return response_dict"
   ]
  },
  {
   "cell_type": "code",
   "execution_count": null,
   "id": "810e6e0b-ad2e-40b5-a0d3-752447027350",
   "metadata": {},
   "outputs": [],
   "source": [
    "# using \"wearing his red fedora\" because the model keeps forgetting his hat!\n",
    "prompt = \"a photo of rhteddy dog wearing his red fedora on in the snowy mountains\"\n",
    "json_response = rest_request(prompt)"
   ]
  },
  {
   "cell_type": "code",
   "execution_count": null,
   "id": "229054e5-1f44-413c-a726-64f5e973f8ab",
   "metadata": {
    "tags": []
   },
   "outputs": [],
   "source": [
    "import base64\n",
    "\n",
    "img_str = json_response[\"predictions\"][0][\"image\"][\"b64\"]\n",
    "img_data = base64.b64decode(img_str)"
   ]
  },
  {
   "cell_type": "code",
   "execution_count": null,
   "id": "1d66e0f7-4d4e-4879-bdf1-36b712432fd9",
   "metadata": {
    "tags": []
   },
   "outputs": [],
   "source": [
    "from PIL import Image\n",
    "import io\n",
    "\n",
    "image = Image.open(io.BytesIO(img_data))\n",
    "image.save(\"teddy.png\", format=\"PNG\")\n",
    "image"
   ]
  },
  {
   "cell_type": "code",
   "execution_count": null,
   "id": "e8f1526f-0e7e-463d-82d8-050aa4e394cd",
   "metadata": {},
   "outputs": [],
   "source": []
  }
 ],
 "metadata": {
  "kernelspec": {
   "display_name": "Python 3.9",
   "language": "python",
   "name": "python3"
  },
  "language_info": {
   "codemirror_mode": {
    "name": "ipython",
    "version": 3
   },
   "file_extension": ".py",
   "mimetype": "text/x-python",
   "name": "python",
   "nbconvert_exporter": "python",
   "pygments_lexer": "ipython3",
   "version": "3.9.18"
  }
 },
 "nbformat": 4,
 "nbformat_minor": 5
}
