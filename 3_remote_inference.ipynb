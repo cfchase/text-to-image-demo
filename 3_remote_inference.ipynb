{
 "cells": [
  {
   "cell_type": "markdown",
   "id": "cc187e7e-ab1c-43f6-bf7c-ff741bc8c797",
   "metadata": {
    "tags": []
   },
   "source": "# Remote Inference: Testing Your Deployed Model\n\nThis notebook demonstrates how to call your deployed Stable Diffusion model using the REST API.\n\nhttps://kserve.github.io/website/latest/modelserving/data_plane/v1_protocol/"
  },
  {
   "cell_type": "markdown",
   "id": "2c004acc-13cd-4917-8480-592c7c2d623b",
   "metadata": {},
   "source": "## Setup\n\nUpdate the following variable to match your deployed model's *Inference endpoint*. For example: \n\n```\ninfer_endpoint = \"https://redhat-dog-image-generation.apps.cluster.openshiftapps.com\"\n```"
  },
  {
   "cell_type": "code",
   "execution_count": null,
   "id": "0de65d02-84a6-4cff-882e-551cdd42b486",
   "metadata": {
    "tags": []
   },
   "outputs": [],
   "source": "infer_endpoint = \"http://redhat-dog-predictor:8080\"\ninfer_url = f\"{infer_endpoint}/v1/models/model:predict\""
  },
  {
   "cell_type": "markdown",
   "id": "d94f9ece-e9cf-44e2-a8a2-73160186aee8",
   "metadata": {},
   "source": "## Request Function\n\nBuild and submit the REST request. The KServe V1 protocol expects JSON with an `instances` array."
  },
  {
   "cell_type": "code",
   "execution_count": null,
   "id": "54b9386f-683a-4880-b780-c40bec3ab9f8",
   "metadata": {
    "tags": []
   },
   "outputs": [],
   "source": "import requests\n\ndef rest_request(prompt):\n    json_data = {\n        \"instances\": [\n            {\n                \"prompt\": prompt,\n                # \"negative_prompt\": \"\",\n                # \"num_inference_steps\": 60,\n            }\n        ]\n    }\n\n    response = requests.post(infer_url, json=json_data, verify=False)\n    response_dict = response.json()\n    return response_dict"
  },
  {
   "cell_type": "markdown",
   "id": "0060tvl5vts1d",
   "source": "## Generate an Image\n\nTest the deployed model with a prompt. Since we trained it with images of Teddy wearing his red fedora, mentioning the hat helps!",
   "metadata": {}
  },
  {
   "cell_type": "code",
   "execution_count": null,
   "id": "810e6e0b-ad2e-40b5-a0d3-752447027350",
   "metadata": {},
   "outputs": [],
   "source": "# using \"wearing his red fedora\" because the model keeps forgetting his hat!\nprompt = \"a photo of rhteddy dog wearing his red fedora in the snowy mountains\"\njson_response = rest_request(prompt)"
  },
  {
   "cell_type": "code",
   "execution_count": null,
   "id": "229054e5-1f44-413c-a726-64f5e973f8ab",
   "metadata": {
    "tags": []
   },
   "outputs": [],
   "source": "import base64\n\nimg_str = json_response[\"predictions\"][0][\"image\"][\"b64\"]\nimg_data = base64.b64decode(img_str)"
  },
  {
   "cell_type": "markdown",
   "id": "pbto42qrnrb",
   "source": "## Decode and Display\n\nThe response contains a base64-encoded PNG image. Let's decode and display it.",
   "metadata": {}
  },
  {
   "cell_type": "code",
   "execution_count": null,
   "id": "1d66e0f7-4d4e-4879-bdf1-36b712432fd9",
   "metadata": {
    "tags": []
   },
   "outputs": [],
   "source": "from PIL import Image\nimport io\n\nimage = Image.open(io.BytesIO(img_data))\nimage.save(\"teddy.png\", format=\"PNG\")\nimage"
  },
  {
   "cell_type": "markdown",
   "id": "syplj555fzi",
   "source": "## Summary\n\nYou've successfully tested your deployed model! The model is now accessible via REST API and ready for integration into applications.\n\nYour fine-tuned model can now generate images of Teddy in various scenarios when called through the API endpoint.",
   "metadata": {}
  }
 ],
 "metadata": {
  "kernelspec": {
   "display_name": "Python 3.11",
   "language": "python",
   "name": "python3"
  },
  "language_info": {
   "codemirror_mode": {
    "name": "ipython",
    "version": 3
   },
   "file_extension": ".py",
   "mimetype": "text/x-python",
   "name": "python",
   "nbconvert_exporter": "python",
   "pygments_lexer": "ipython3",
   "version": "3.11.11"
  }
 },
 "nbformat": 4,
 "nbformat_minor": 5
}