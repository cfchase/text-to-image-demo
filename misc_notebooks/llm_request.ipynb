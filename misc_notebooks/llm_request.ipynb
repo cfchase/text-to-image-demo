{
 "cells": [
  {
   "cell_type": "markdown",
   "id": "4ad2cc4e-31ec-4648-b0fe-6632f2bdbc36",
   "metadata": {},
   "source": [
    "## Test out the LLM Deployment"
   ]
  },
  {
   "cell_type": "markdown",
   "id": "2a4e2b81-0e10-4390-a7b8-5ddfda53a3e3",
   "metadata": {},
   "source": [
    "### Requirements and Imports\n"
   ]
  },
  {
   "cell_type": "code",
   "execution_count": null,
   "id": "0f2b14bf-7b84-4f6c-9975-390d143ad3f1",
   "metadata": {
    "tags": []
   },
   "outputs": [],
   "source": [
    "!pip install openai"
   ]
  },
  {
   "cell_type": "markdown",
   "id": "c428fbad-2345-4536-b687-72416d6b9b15",
   "metadata": {},
   "source": [
    "### OpenAI Client Request\n"
   ]
  },
  {
   "cell_type": "code",
   "execution_count": null,
   "id": "64429b27",
   "metadata": {},
   "outputs": [],
   "source": [
    "base_url = \"http://llm-deployment-predictor.text-to-image-demo.svc.cluster.local:8080/v1\"  #don't forget to add the /v1 for the OpenAI endpoint\n",
    "api_key = \"EMPTY\"\n"
   ]
  },
  {
   "cell_type": "code",
   "execution_count": null,
   "id": "977410bc8950fc76",
   "metadata": {},
   "outputs": [],
   "source": [
    "from openai import OpenAI\n",
    "\n",
    "client = OpenAI(\n",
    "    api_key=api_key,\n",
    "    base_url=base_url\n",
    ")\n",
    "\n",
    "# Get model name\n",
    "model_list = client.models.list()\n",
    "model_name = model_list.data[0].id\n",
    "print(f\"Using model: {model_name}\")\n",
    "\n",
    "completion = client.chat.completions.create(\n",
    "    model=model_name,\n",
    "    messages=[\n",
    "        # User message\n",
    "        {\n",
    "            \"role\": \"user\",\n",
    "            \"content\": \"Hi. Who are you?\"\n",
    "        }\n",
    "    ],\n",
    "    stream=True\n",
    ")\n",
    "\n",
    "for chunk in completion:\n",
    "    if chunk.choices[0].delta.content is not None:\n",
    "        print(chunk.choices[0].delta.content, end='', flush=True)\n",
    "print()\n"
   ]
  },
  {
   "cell_type": "code",
   "execution_count": null,
   "id": "4df062a5",
   "metadata": {},
   "outputs": [],
   "source": [
    "from openai import OpenAI\n",
    "from datetime import datetime\n",
    "\n",
    "\n",
    "def get_current_time():\n",
    "    \"\"\"Returns the current time in UTC as an ISO 8601 string.\"\"\"\n",
    "    return datetime.utcnow().isoformat() + \"Z\"\n",
    "\n",
    "client = OpenAI(\n",
    "    api_key=api_key,\n",
    "    base_url=base_url\n",
    ")\n",
    "\n",
    "# Example tool definition for tool calling\n",
    "tools = [\n",
    "    {\n",
    "        \"type\": \"function\",\n",
    "        \"function\": {\n",
    "            \"name\": \"get_current_time\",\n",
    "            \"description\": \"Returns the current time in UTC.\",\n",
    "            \"parameters\": {\n",
    "                \"type\": \"object\",\n",
    "                \"properties\": {},\n",
    "                \"required\": []\n",
    "            }\n",
    "        }\n",
    "    }\n",
    "]\n",
    "\n",
    "# Get model name\n",
    "model_list = client.models.list()\n",
    "if not model_name:\n",
    "    model_name = model_list.data[0].id\n",
    "model_ids = \", \".join([model.id for model in model_list.data])\n",
    "print(f\"Using model: {model_name} from choices: {model_ids}\")\n",
    "\n",
    "completion = client.chat.completions.create(\n",
    "    model=model_name,\n",
    "    messages=[\n",
    "        # User message\n",
    "        {\n",
    "            \"role\": \"user\",\n",
    "            \"content\": \"What time is it?\"\n",
    "        }\n",
    "    ],\n",
    "    stream=True,\n",
    "    tools=tools\n",
    ")\n",
    "for chunk in completion:\n",
    "    if chunk.choices[0].delta.tool_calls is not None:\n",
    "        print(\"Tool call:\", chunk.choices[0].delta.tool_calls)\n",
    "    if chunk.choices[0].delta.content is not None:\n",
    "        print(chunk.choices[0].delta.content, end='', flush=True)"
   ]
  }
 ],
 "metadata": {
  "kernelspec": {
   "display_name": ".venv",
   "language": "python",
   "name": "python3"
  },
  "language_info": {
   "codemirror_mode": {
    "name": "ipython",
    "version": 3
   },
   "file_extension": ".py",
   "mimetype": "text/x-python",
   "name": "python",
   "nbconvert_exporter": "python",
   "pygments_lexer": "ipython3",
   "version": "3.13.5"
  }
 },
 "nbformat": 4,
 "nbformat_minor": 5
}
